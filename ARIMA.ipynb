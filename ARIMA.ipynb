{
  "nbformat": 4,
  "nbformat_minor": 0,
  "metadata": {
    "colab": {
      "name": "ARIMA.ipynb",
      "provenance": []
    },
    "kernelspec": {
      "name": "python3",
      "display_name": "Python 3"
    },
    "accelerator": "GPU"
  },
  "cells": [
    {
      "cell_type": "markdown",
      "metadata": {
        "id": "rlT7kOiGxmKz",
        "colab_type": "text"
      },
      "source": [
        "\n",
        "The general process for ARIMA models is the following:\n",
        "\n",
        "Visualize the Time Series Data\n",
        "\n",
        "Make the time series data stationary\n",
        "\n",
        "Plot the Correlation and AutoCorrelation Charts\n",
        "\n",
        "Construct the ARIMA Model or Seasonal ARIMA based on the data\n",
        "\n",
        "Use the model to make predictions\n",
        "\n",
        "**Let's go through these steps!**\n",
        "\n"
      ]
    },
    {
      "cell_type": "markdown",
      "metadata": {
        "id": "EDpmIb-8lS_o",
        "colab_type": "text"
      },
      "source": [
        "Uploading the file to Google Colaboratory\n"
      ]
    },
    {
      "cell_type": "code",
      "metadata": {
        "id": "2m_WSohirZyu",
        "colab_type": "code",
        "colab": {
          "resources": {
            "http://localhost:8080/nbextensions/google.colab/files.js": {
              "data": "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",
              "ok": true,
              "headers": [
                [
                  "content-type",
                  "application/javascript"
                ]
              ],
              "status": 200,
              "status_text": ""
            }
          },
          "base_uri": "https://localhost:8080/",
          "height": 73
        },
        "outputId": "4e59f833-712b-4029-aace-e3706cb600b9"
      },
      "source": [
        "from google.colab import files\n",
        "\n",
        "uploaded = files.upload()"
      ],
      "execution_count": 1,
      "outputs": [
        {
          "output_type": "display_data",
          "data": {
            "text/html": [
              "\n",
              "     <input type=\"file\" id=\"files-53e7a112-9c04-4bf0-b3b8-019b09bfbcdc\" name=\"files[]\" multiple disabled\n",
              "        style=\"border:none\" />\n",
              "     <output id=\"result-53e7a112-9c04-4bf0-b3b8-019b09bfbcdc\">\n",
              "      Upload widget is only available when the cell has been executed in the\n",
              "      current browser session. Please rerun this cell to enable.\n",
              "      </output>\n",
              "      <script src=\"/nbextensions/google.colab/files.js\"></script> "
            ],
            "text/plain": [
              "<IPython.core.display.HTML object>"
            ]
          },
          "metadata": {
            "tags": []
          }
        },
        {
          "output_type": "stream",
          "text": [
            "Saving netflix-stocks-data.csv to netflix-stocks-data.csv\n"
          ],
          "name": "stdout"
        }
      ]
    },
    {
      "cell_type": "code",
      "metadata": {
        "id": "O4dw-rhnrc42",
        "colab_type": "code",
        "colab": {}
      },
      "source": [
        "import pandas as pd\n",
        "import numpy as np\n",
        "\n",
        "df = pd.read_csv('netflix-stocks-data.csv')\n",
        "\n"
      ],
      "execution_count": 2,
      "outputs": []
    },
    {
      "cell_type": "code",
      "metadata": {
        "id": "0PkdEgn0rp6U",
        "colab_type": "code",
        "colab": {
          "base_uri": "https://localhost:8080/",
          "height": 639
        },
        "outputId": "a356a18a-4eb0-43c2-89b8-0c397733e6f7"
      },
      "source": [
        "df.head(20)"
      ],
      "execution_count": 3,
      "outputs": [
        {
          "output_type": "execute_result",
          "data": {
            "text/html": [
              "<div>\n",
              "<style scoped>\n",
              "    .dataframe tbody tr th:only-of-type {\n",
              "        vertical-align: middle;\n",
              "    }\n",
              "\n",
              "    .dataframe tbody tr th {\n",
              "        vertical-align: top;\n",
              "    }\n",
              "\n",
              "    .dataframe thead th {\n",
              "        text-align: right;\n",
              "    }\n",
              "</style>\n",
              "<table border=\"1\" class=\"dataframe\">\n",
              "  <thead>\n",
              "    <tr style=\"text-align: right;\">\n",
              "      <th></th>\n",
              "      <th>Date</th>\n",
              "      <th>Close/Last</th>\n",
              "      <th>Volume</th>\n",
              "      <th>Open</th>\n",
              "      <th>High</th>\n",
              "      <th>Low</th>\n",
              "    </tr>\n",
              "  </thead>\n",
              "  <tbody>\n",
              "    <tr>\n",
              "      <th>0</th>\n",
              "      <td>07/17/2020</td>\n",
              "      <td>$492.99</td>\n",
              "      <td>24991350</td>\n",
              "      <td>$494.87</td>\n",
              "      <td>$503.59</td>\n",
              "      <td>$484.14</td>\n",
              "    </tr>\n",
              "    <tr>\n",
              "      <th>1</th>\n",
              "      <td>07/16/2020</td>\n",
              "      <td>$527.39</td>\n",
              "      <td>24498990</td>\n",
              "      <td>$526.48</td>\n",
              "      <td>$535.54</td>\n",
              "      <td>$504.3627</td>\n",
              "    </tr>\n",
              "    <tr>\n",
              "      <th>2</th>\n",
              "      <td>07/15/2020</td>\n",
              "      <td>$523.26</td>\n",
              "      <td>10066650</td>\n",
              "      <td>$516.3</td>\n",
              "      <td>$529</td>\n",
              "      <td>$510.18</td>\n",
              "    </tr>\n",
              "    <tr>\n",
              "      <th>3</th>\n",
              "      <td>07/14/2020</td>\n",
              "      <td>$524.88</td>\n",
              "      <td>15083300</td>\n",
              "      <td>$517.08</td>\n",
              "      <td>$525.5</td>\n",
              "      <td>$490.49</td>\n",
              "    </tr>\n",
              "    <tr>\n",
              "      <th>4</th>\n",
              "      <td>07/13/2020</td>\n",
              "      <td>$525.5</td>\n",
              "      <td>18399020</td>\n",
              "      <td>$567.98</td>\n",
              "      <td>$575.37</td>\n",
              "      <td>$520.96</td>\n",
              "    </tr>\n",
              "    <tr>\n",
              "      <th>5</th>\n",
              "      <td>07/10/2020</td>\n",
              "      <td>$548.73</td>\n",
              "      <td>21605590</td>\n",
              "      <td>$519.73</td>\n",
              "      <td>$555.8799</td>\n",
              "      <td>$511.28</td>\n",
              "    </tr>\n",
              "    <tr>\n",
              "      <th>6</th>\n",
              "      <td>07/09/2020</td>\n",
              "      <td>$507.76</td>\n",
              "      <td>5840541</td>\n",
              "      <td>$508.4</td>\n",
              "      <td>$510</td>\n",
              "      <td>$495.78</td>\n",
              "    </tr>\n",
              "    <tr>\n",
              "      <th>7</th>\n",
              "      <td>07/08/2020</td>\n",
              "      <td>$502.78</td>\n",
              "      <td>5691682</td>\n",
              "      <td>$498.576</td>\n",
              "      <td>$505.1</td>\n",
              "      <td>$493.81</td>\n",
              "    </tr>\n",
              "    <tr>\n",
              "      <th>8</th>\n",
              "      <td>07/07/2020</td>\n",
              "      <td>$493.16</td>\n",
              "      <td>5669870</td>\n",
              "      <td>$497.311</td>\n",
              "      <td>$504.82</td>\n",
              "      <td>$490.83</td>\n",
              "    </tr>\n",
              "    <tr>\n",
              "      <th>9</th>\n",
              "      <td>07/06/2020</td>\n",
              "      <td>$493.81</td>\n",
              "      <td>7838990</td>\n",
              "      <td>$480.77</td>\n",
              "      <td>$499.5</td>\n",
              "      <td>$479.8</td>\n",
              "    </tr>\n",
              "    <tr>\n",
              "      <th>10</th>\n",
              "      <td>07/02/2020</td>\n",
              "      <td>$476.89</td>\n",
              "      <td>6351485</td>\n",
              "      <td>$485.64</td>\n",
              "      <td>$492.28</td>\n",
              "      <td>$475.5258</td>\n",
              "    </tr>\n",
              "    <tr>\n",
              "      <th>11</th>\n",
              "      <td>07/01/2020</td>\n",
              "      <td>$485.64</td>\n",
              "      <td>9705870</td>\n",
              "      <td>$454</td>\n",
              "      <td>$488.23</td>\n",
              "      <td>$454</td>\n",
              "    </tr>\n",
              "    <tr>\n",
              "      <th>12</th>\n",
              "      <td>06/30/2020</td>\n",
              "      <td>$455.04</td>\n",
              "      <td>4198545</td>\n",
              "      <td>$450.02</td>\n",
              "      <td>$457.59</td>\n",
              "      <td>$447</td>\n",
              "    </tr>\n",
              "    <tr>\n",
              "      <th>13</th>\n",
              "      <td>06/29/2020</td>\n",
              "      <td>$447.24</td>\n",
              "      <td>4843978</td>\n",
              "      <td>$445.23</td>\n",
              "      <td>$447.67</td>\n",
              "      <td>$432.14</td>\n",
              "    </tr>\n",
              "    <tr>\n",
              "      <th>14</th>\n",
              "      <td>06/26/2020</td>\n",
              "      <td>$443.4</td>\n",
              "      <td>6804726</td>\n",
              "      <td>$466.39</td>\n",
              "      <td>$468.03</td>\n",
              "      <td>$442.24</td>\n",
              "    </tr>\n",
              "    <tr>\n",
              "      <th>15</th>\n",
              "      <td>06/25/2020</td>\n",
              "      <td>$465.91</td>\n",
              "      <td>4134513</td>\n",
              "      <td>$458.86</td>\n",
              "      <td>$467.01</td>\n",
              "      <td>$454</td>\n",
              "    </tr>\n",
              "    <tr>\n",
              "      <th>16</th>\n",
              "      <td>06/24/2020</td>\n",
              "      <td>$457.85</td>\n",
              "      <td>4826191</td>\n",
              "      <td>$468.54</td>\n",
              "      <td>$472.36</td>\n",
              "      <td>$454</td>\n",
              "    </tr>\n",
              "    <tr>\n",
              "      <th>17</th>\n",
              "      <td>06/23/2020</td>\n",
              "      <td>$466.26</td>\n",
              "      <td>5948436</td>\n",
              "      <td>$466.5</td>\n",
              "      <td>$474.01</td>\n",
              "      <td>$464.5</td>\n",
              "    </tr>\n",
              "    <tr>\n",
              "      <th>18</th>\n",
              "      <td>06/22/2020</td>\n",
              "      <td>$468.04</td>\n",
              "      <td>6272105</td>\n",
              "      <td>$455.01</td>\n",
              "      <td>$468.59</td>\n",
              "      <td>$454.21</td>\n",
              "    </tr>\n",
              "    <tr>\n",
              "      <th>19</th>\n",
              "      <td>06/19/2020</td>\n",
              "      <td>$453.72</td>\n",
              "      <td>5933651</td>\n",
              "      <td>$449.12</td>\n",
              "      <td>$453.97</td>\n",
              "      <td>$445.6</td>\n",
              "    </tr>\n",
              "  </tbody>\n",
              "</table>\n",
              "</div>"
            ],
            "text/plain": [
              "          Date  Close/Last    Volume       Open        High         Low\n",
              "0   07/17/2020     $492.99  24991350    $494.87     $503.59     $484.14\n",
              "1   07/16/2020     $527.39  24498990    $526.48     $535.54   $504.3627\n",
              "2   07/15/2020     $523.26  10066650     $516.3        $529     $510.18\n",
              "3   07/14/2020     $524.88  15083300    $517.08      $525.5     $490.49\n",
              "4   07/13/2020      $525.5  18399020    $567.98     $575.37     $520.96\n",
              "5   07/10/2020     $548.73  21605590    $519.73   $555.8799     $511.28\n",
              "6   07/09/2020     $507.76   5840541     $508.4        $510     $495.78\n",
              "7   07/08/2020     $502.78   5691682   $498.576      $505.1     $493.81\n",
              "8   07/07/2020     $493.16   5669870   $497.311     $504.82     $490.83\n",
              "9   07/06/2020     $493.81   7838990    $480.77      $499.5      $479.8\n",
              "10  07/02/2020     $476.89   6351485    $485.64     $492.28   $475.5258\n",
              "11  07/01/2020     $485.64   9705870       $454     $488.23        $454\n",
              "12  06/30/2020     $455.04   4198545    $450.02     $457.59        $447\n",
              "13  06/29/2020     $447.24   4843978    $445.23     $447.67     $432.14\n",
              "14  06/26/2020      $443.4   6804726    $466.39     $468.03     $442.24\n",
              "15  06/25/2020     $465.91   4134513    $458.86     $467.01        $454\n",
              "16  06/24/2020     $457.85   4826191    $468.54     $472.36        $454\n",
              "17  06/23/2020     $466.26   5948436     $466.5     $474.01      $464.5\n",
              "18  06/22/2020     $468.04   6272105    $455.01     $468.59     $454.21\n",
              "19  06/19/2020     $453.72   5933651    $449.12     $453.97      $445.6"
            ]
          },
          "metadata": {
            "tags": []
          },
          "execution_count": 3
        }
      ]
    },
    {
      "cell_type": "markdown",
      "metadata": {
        "id": "BmU0V05Tla3U",
        "colab_type": "text"
      },
      "source": [
        "Is there any null values present in the dataset?"
      ]
    },
    {
      "cell_type": "code",
      "metadata": {
        "id": "-2t_bNIkrtFF",
        "colab_type": "code",
        "colab": {
          "base_uri": "https://localhost:8080/",
          "height": 134
        },
        "outputId": "cac71e15-c7c0-4890-c118-839027862c77"
      },
      "source": [
        "df.isnull().sum()"
      ],
      "execution_count": 4,
      "outputs": [
        {
          "output_type": "execute_result",
          "data": {
            "text/plain": [
              "Date           0\n",
              " Close/Last    0\n",
              " Volume        0\n",
              " Open          0\n",
              " High          0\n",
              " Low           0\n",
              "dtype: int64"
            ]
          },
          "metadata": {
            "tags": []
          },
          "execution_count": 4
        }
      ]
    },
    {
      "cell_type": "code",
      "metadata": {
        "id": "Syar4Fodrwsw",
        "colab_type": "code",
        "colab": {
          "base_uri": "https://localhost:8080/",
          "height": 34
        },
        "outputId": "37378dbc-da3a-408b-93e3-d211d7b541e5"
      },
      "source": [
        "df.columns"
      ],
      "execution_count": 5,
      "outputs": [
        {
          "output_type": "execute_result",
          "data": {
            "text/plain": [
              "Index(['Date', ' Close/Last', ' Volume', ' Open', ' High', ' Low'], dtype='object')"
            ]
          },
          "metadata": {
            "tags": []
          },
          "execution_count": 5
        }
      ]
    },
    {
      "cell_type": "markdown",
      "metadata": {
        "id": "bQn5ke34luq5",
        "colab_type": "text"
      },
      "source": [
        "I will only need Data and Close/Last columns\n"
      ]
    },
    {
      "cell_type": "code",
      "metadata": {
        "id": "gmapYS5iryJ5",
        "colab_type": "code",
        "colab": {}
      },
      "source": [
        "df = df[[\"Date\", \" Close/Last\"]]"
      ],
      "execution_count": 6,
      "outputs": []
    },
    {
      "cell_type": "code",
      "metadata": {
        "id": "GVh5HVA9r3Wd",
        "colab_type": "code",
        "colab": {
          "base_uri": "https://localhost:8080/",
          "height": 402
        },
        "outputId": "7fcd8339-c24e-498d-f496-73356b013515"
      },
      "source": [
        "df"
      ],
      "execution_count": 7,
      "outputs": [
        {
          "output_type": "execute_result",
          "data": {
            "text/html": [
              "<div>\n",
              "<style scoped>\n",
              "    .dataframe tbody tr th:only-of-type {\n",
              "        vertical-align: middle;\n",
              "    }\n",
              "\n",
              "    .dataframe tbody tr th {\n",
              "        vertical-align: top;\n",
              "    }\n",
              "\n",
              "    .dataframe thead th {\n",
              "        text-align: right;\n",
              "    }\n",
              "</style>\n",
              "<table border=\"1\" class=\"dataframe\">\n",
              "  <thead>\n",
              "    <tr style=\"text-align: right;\">\n",
              "      <th></th>\n",
              "      <th>Date</th>\n",
              "      <th>Close/Last</th>\n",
              "    </tr>\n",
              "  </thead>\n",
              "  <tbody>\n",
              "    <tr>\n",
              "      <th>0</th>\n",
              "      <td>07/17/2020</td>\n",
              "      <td>$492.99</td>\n",
              "    </tr>\n",
              "    <tr>\n",
              "      <th>1</th>\n",
              "      <td>07/16/2020</td>\n",
              "      <td>$527.39</td>\n",
              "    </tr>\n",
              "    <tr>\n",
              "      <th>2</th>\n",
              "      <td>07/15/2020</td>\n",
              "      <td>$523.26</td>\n",
              "    </tr>\n",
              "    <tr>\n",
              "      <th>3</th>\n",
              "      <td>07/14/2020</td>\n",
              "      <td>$524.88</td>\n",
              "    </tr>\n",
              "    <tr>\n",
              "      <th>4</th>\n",
              "      <td>07/13/2020</td>\n",
              "      <td>$525.5</td>\n",
              "    </tr>\n",
              "    <tr>\n",
              "      <th>...</th>\n",
              "      <td>...</td>\n",
              "      <td>...</td>\n",
              "    </tr>\n",
              "    <tr>\n",
              "      <th>2512</th>\n",
              "      <td>07/26/2010</td>\n",
              "      <td>$14.6843</td>\n",
              "    </tr>\n",
              "    <tr>\n",
              "      <th>2513</th>\n",
              "      <td>07/23/2010</td>\n",
              "      <td>$15.3857</td>\n",
              "    </tr>\n",
              "    <tr>\n",
              "      <th>2514</th>\n",
              "      <td>07/22/2010</td>\n",
              "      <td>$14.7943</td>\n",
              "    </tr>\n",
              "    <tr>\n",
              "      <th>2515</th>\n",
              "      <td>07/21/2010</td>\n",
              "      <td>$17.0929</td>\n",
              "    </tr>\n",
              "    <tr>\n",
              "      <th>2516</th>\n",
              "      <td>07/20/2010</td>\n",
              "      <td>$17.1986</td>\n",
              "    </tr>\n",
              "  </tbody>\n",
              "</table>\n",
              "<p>2517 rows × 2 columns</p>\n",
              "</div>"
            ],
            "text/plain": [
              "            Date  Close/Last\n",
              "0     07/17/2020     $492.99\n",
              "1     07/16/2020     $527.39\n",
              "2     07/15/2020     $523.26\n",
              "3     07/14/2020     $524.88\n",
              "4     07/13/2020      $525.5\n",
              "...          ...         ...\n",
              "2512  07/26/2010    $14.6843\n",
              "2513  07/23/2010    $15.3857\n",
              "2514  07/22/2010    $14.7943\n",
              "2515  07/21/2010    $17.0929\n",
              "2516  07/20/2010    $17.1986\n",
              "\n",
              "[2517 rows x 2 columns]"
            ]
          },
          "metadata": {
            "tags": []
          },
          "execution_count": 7
        }
      ]
    },
    {
      "cell_type": "markdown",
      "metadata": {
        "id": "BwgWuhnMl1g6",
        "colab_type": "text"
      },
      "source": [
        "Lets rename the \"Date\" column with small letter - \"date\" and \"Close/Last\" with \"close\""
      ]
    },
    {
      "cell_type": "code",
      "metadata": {
        "id": "fi8B6o5vr32c",
        "colab_type": "code",
        "colab": {}
      },
      "source": [
        "df = df.rename(columns = {'Date': 'date', ' Close/Last': \"close\"})\n"
      ],
      "execution_count": 8,
      "outputs": []
    },
    {
      "cell_type": "code",
      "metadata": {
        "id": "sIUIM3dFsHZh",
        "colab_type": "code",
        "colab": {
          "base_uri": "https://localhost:8080/",
          "height": 402
        },
        "outputId": "21f9a2d3-a2ce-4894-c6dd-3172d2329f8b"
      },
      "source": [
        "df"
      ],
      "execution_count": 9,
      "outputs": [
        {
          "output_type": "execute_result",
          "data": {
            "text/html": [
              "<div>\n",
              "<style scoped>\n",
              "    .dataframe tbody tr th:only-of-type {\n",
              "        vertical-align: middle;\n",
              "    }\n",
              "\n",
              "    .dataframe tbody tr th {\n",
              "        vertical-align: top;\n",
              "    }\n",
              "\n",
              "    .dataframe thead th {\n",
              "        text-align: right;\n",
              "    }\n",
              "</style>\n",
              "<table border=\"1\" class=\"dataframe\">\n",
              "  <thead>\n",
              "    <tr style=\"text-align: right;\">\n",
              "      <th></th>\n",
              "      <th>date</th>\n",
              "      <th>close</th>\n",
              "    </tr>\n",
              "  </thead>\n",
              "  <tbody>\n",
              "    <tr>\n",
              "      <th>0</th>\n",
              "      <td>07/17/2020</td>\n",
              "      <td>$492.99</td>\n",
              "    </tr>\n",
              "    <tr>\n",
              "      <th>1</th>\n",
              "      <td>07/16/2020</td>\n",
              "      <td>$527.39</td>\n",
              "    </tr>\n",
              "    <tr>\n",
              "      <th>2</th>\n",
              "      <td>07/15/2020</td>\n",
              "      <td>$523.26</td>\n",
              "    </tr>\n",
              "    <tr>\n",
              "      <th>3</th>\n",
              "      <td>07/14/2020</td>\n",
              "      <td>$524.88</td>\n",
              "    </tr>\n",
              "    <tr>\n",
              "      <th>4</th>\n",
              "      <td>07/13/2020</td>\n",
              "      <td>$525.5</td>\n",
              "    </tr>\n",
              "    <tr>\n",
              "      <th>...</th>\n",
              "      <td>...</td>\n",
              "      <td>...</td>\n",
              "    </tr>\n",
              "    <tr>\n",
              "      <th>2512</th>\n",
              "      <td>07/26/2010</td>\n",
              "      <td>$14.6843</td>\n",
              "    </tr>\n",
              "    <tr>\n",
              "      <th>2513</th>\n",
              "      <td>07/23/2010</td>\n",
              "      <td>$15.3857</td>\n",
              "    </tr>\n",
              "    <tr>\n",
              "      <th>2514</th>\n",
              "      <td>07/22/2010</td>\n",
              "      <td>$14.7943</td>\n",
              "    </tr>\n",
              "    <tr>\n",
              "      <th>2515</th>\n",
              "      <td>07/21/2010</td>\n",
              "      <td>$17.0929</td>\n",
              "    </tr>\n",
              "    <tr>\n",
              "      <th>2516</th>\n",
              "      <td>07/20/2010</td>\n",
              "      <td>$17.1986</td>\n",
              "    </tr>\n",
              "  </tbody>\n",
              "</table>\n",
              "<p>2517 rows × 2 columns</p>\n",
              "</div>"
            ],
            "text/plain": [
              "            date      close\n",
              "0     07/17/2020    $492.99\n",
              "1     07/16/2020    $527.39\n",
              "2     07/15/2020    $523.26\n",
              "3     07/14/2020    $524.88\n",
              "4     07/13/2020     $525.5\n",
              "...          ...        ...\n",
              "2512  07/26/2010   $14.6843\n",
              "2513  07/23/2010   $15.3857\n",
              "2514  07/22/2010   $14.7943\n",
              "2515  07/21/2010   $17.0929\n",
              "2516  07/20/2010   $17.1986\n",
              "\n",
              "[2517 rows x 2 columns]"
            ]
          },
          "metadata": {
            "tags": []
          },
          "execution_count": 9
        }
      ]
    },
    {
      "cell_type": "markdown",
      "metadata": {
        "id": "QMBrR7s_mVv_",
        "colab_type": "text"
      },
      "source": [
        "I need to remove the $ symbol as this doesn't make any sense for this project purpose."
      ]
    },
    {
      "cell_type": "code",
      "metadata": {
        "id": "ZXphHjeMsKeC",
        "colab_type": "code",
        "colab": {}
      },
      "source": [
        "df['close'] = df['close'].str.replace(\"$\", '')\n"
      ],
      "execution_count": 10,
      "outputs": []
    },
    {
      "cell_type": "code",
      "metadata": {
        "id": "onhwt50bsOfQ",
        "colab_type": "code",
        "colab": {
          "base_uri": "https://localhost:8080/",
          "height": 402
        },
        "outputId": "4805a396-5b56-4566-e398-d2b28ef3185c"
      },
      "source": [
        "df"
      ],
      "execution_count": 11,
      "outputs": [
        {
          "output_type": "execute_result",
          "data": {
            "text/html": [
              "<div>\n",
              "<style scoped>\n",
              "    .dataframe tbody tr th:only-of-type {\n",
              "        vertical-align: middle;\n",
              "    }\n",
              "\n",
              "    .dataframe tbody tr th {\n",
              "        vertical-align: top;\n",
              "    }\n",
              "\n",
              "    .dataframe thead th {\n",
              "        text-align: right;\n",
              "    }\n",
              "</style>\n",
              "<table border=\"1\" class=\"dataframe\">\n",
              "  <thead>\n",
              "    <tr style=\"text-align: right;\">\n",
              "      <th></th>\n",
              "      <th>date</th>\n",
              "      <th>close</th>\n",
              "    </tr>\n",
              "  </thead>\n",
              "  <tbody>\n",
              "    <tr>\n",
              "      <th>0</th>\n",
              "      <td>07/17/2020</td>\n",
              "      <td>492.99</td>\n",
              "    </tr>\n",
              "    <tr>\n",
              "      <th>1</th>\n",
              "      <td>07/16/2020</td>\n",
              "      <td>527.39</td>\n",
              "    </tr>\n",
              "    <tr>\n",
              "      <th>2</th>\n",
              "      <td>07/15/2020</td>\n",
              "      <td>523.26</td>\n",
              "    </tr>\n",
              "    <tr>\n",
              "      <th>3</th>\n",
              "      <td>07/14/2020</td>\n",
              "      <td>524.88</td>\n",
              "    </tr>\n",
              "    <tr>\n",
              "      <th>4</th>\n",
              "      <td>07/13/2020</td>\n",
              "      <td>525.5</td>\n",
              "    </tr>\n",
              "    <tr>\n",
              "      <th>...</th>\n",
              "      <td>...</td>\n",
              "      <td>...</td>\n",
              "    </tr>\n",
              "    <tr>\n",
              "      <th>2512</th>\n",
              "      <td>07/26/2010</td>\n",
              "      <td>14.6843</td>\n",
              "    </tr>\n",
              "    <tr>\n",
              "      <th>2513</th>\n",
              "      <td>07/23/2010</td>\n",
              "      <td>15.3857</td>\n",
              "    </tr>\n",
              "    <tr>\n",
              "      <th>2514</th>\n",
              "      <td>07/22/2010</td>\n",
              "      <td>14.7943</td>\n",
              "    </tr>\n",
              "    <tr>\n",
              "      <th>2515</th>\n",
              "      <td>07/21/2010</td>\n",
              "      <td>17.0929</td>\n",
              "    </tr>\n",
              "    <tr>\n",
              "      <th>2516</th>\n",
              "      <td>07/20/2010</td>\n",
              "      <td>17.1986</td>\n",
              "    </tr>\n",
              "  </tbody>\n",
              "</table>\n",
              "<p>2517 rows × 2 columns</p>\n",
              "</div>"
            ],
            "text/plain": [
              "            date     close\n",
              "0     07/17/2020    492.99\n",
              "1     07/16/2020    527.39\n",
              "2     07/15/2020    523.26\n",
              "3     07/14/2020    524.88\n",
              "4     07/13/2020     525.5\n",
              "...          ...       ...\n",
              "2512  07/26/2010   14.6843\n",
              "2513  07/23/2010   15.3857\n",
              "2514  07/22/2010   14.7943\n",
              "2515  07/21/2010   17.0929\n",
              "2516  07/20/2010   17.1986\n",
              "\n",
              "[2517 rows x 2 columns]"
            ]
          },
          "metadata": {
            "tags": []
          },
          "execution_count": 11
        }
      ]
    },
    {
      "cell_type": "code",
      "metadata": {
        "id": "6jlpTM-QsPvM",
        "colab_type": "code",
        "colab": {}
      },
      "source": [
        "df['date']=pd.to_datetime(df['date'])\n"
      ],
      "execution_count": 12,
      "outputs": []
    },
    {
      "cell_type": "code",
      "metadata": {
        "id": "fgcLUvnrsTvJ",
        "colab_type": "code",
        "colab": {
          "base_uri": "https://localhost:8080/",
          "height": 168
        },
        "outputId": "6c73e222-8cdf-49bc-dd6d-efddb75250d3"
      },
      "source": [
        "df.info()"
      ],
      "execution_count": 13,
      "outputs": [
        {
          "output_type": "stream",
          "text": [
            "<class 'pandas.core.frame.DataFrame'>\n",
            "RangeIndex: 2517 entries, 0 to 2516\n",
            "Data columns (total 2 columns):\n",
            " #   Column  Non-Null Count  Dtype         \n",
            "---  ------  --------------  -----         \n",
            " 0   date    2517 non-null   datetime64[ns]\n",
            " 1   close   2517 non-null   object        \n",
            "dtypes: datetime64[ns](1), object(1)\n",
            "memory usage: 39.5+ KB\n"
          ],
          "name": "stdout"
        }
      ]
    },
    {
      "cell_type": "markdown",
      "metadata": {
        "id": "Xa-gho0Gm5jv",
        "colab_type": "text"
      },
      "source": [
        "The datatype of \"date\" column is datetime. Previously it had object datatype "
      ]
    },
    {
      "cell_type": "code",
      "metadata": {
        "id": "Q3FahRMEsY0l",
        "colab_type": "code",
        "colab": {}
      },
      "source": [
        "df.set_index(\"date\", inplace=True)"
      ],
      "execution_count": 14,
      "outputs": []
    },
    {
      "cell_type": "code",
      "metadata": {
        "id": "sg1TMchSseNj",
        "colab_type": "code",
        "colab": {
          "base_uri": "https://localhost:8080/",
          "height": 225
        },
        "outputId": "36f632e3-8d1a-4330-ec98-3507849c72da"
      },
      "source": [
        "df.head()"
      ],
      "execution_count": 15,
      "outputs": [
        {
          "output_type": "execute_result",
          "data": {
            "text/html": [
              "<div>\n",
              "<style scoped>\n",
              "    .dataframe tbody tr th:only-of-type {\n",
              "        vertical-align: middle;\n",
              "    }\n",
              "\n",
              "    .dataframe tbody tr th {\n",
              "        vertical-align: top;\n",
              "    }\n",
              "\n",
              "    .dataframe thead th {\n",
              "        text-align: right;\n",
              "    }\n",
              "</style>\n",
              "<table border=\"1\" class=\"dataframe\">\n",
              "  <thead>\n",
              "    <tr style=\"text-align: right;\">\n",
              "      <th></th>\n",
              "      <th>close</th>\n",
              "    </tr>\n",
              "    <tr>\n",
              "      <th>date</th>\n",
              "      <th></th>\n",
              "    </tr>\n",
              "  </thead>\n",
              "  <tbody>\n",
              "    <tr>\n",
              "      <th>2020-07-17</th>\n",
              "      <td>492.99</td>\n",
              "    </tr>\n",
              "    <tr>\n",
              "      <th>2020-07-16</th>\n",
              "      <td>527.39</td>\n",
              "    </tr>\n",
              "    <tr>\n",
              "      <th>2020-07-15</th>\n",
              "      <td>523.26</td>\n",
              "    </tr>\n",
              "    <tr>\n",
              "      <th>2020-07-14</th>\n",
              "      <td>524.88</td>\n",
              "    </tr>\n",
              "    <tr>\n",
              "      <th>2020-07-13</th>\n",
              "      <td>525.5</td>\n",
              "    </tr>\n",
              "  </tbody>\n",
              "</table>\n",
              "</div>"
            ],
            "text/plain": [
              "              close\n",
              "date               \n",
              "2020-07-17   492.99\n",
              "2020-07-16   527.39\n",
              "2020-07-15   523.26\n",
              "2020-07-14   524.88\n",
              "2020-07-13    525.5"
            ]
          },
          "metadata": {
            "tags": []
          },
          "execution_count": 15
        }
      ]
    },
    {
      "cell_type": "code",
      "metadata": {
        "id": "5gyscAvasf_-",
        "colab_type": "code",
        "colab": {}
      },
      "source": [
        "df[\"close\"] =df[\"close\"].astype(float)"
      ],
      "execution_count": 16,
      "outputs": []
    },
    {
      "cell_type": "code",
      "metadata": {
        "id": "BDXXy8nAsmqI",
        "colab_type": "code",
        "colab": {
          "base_uri": "https://localhost:8080/",
          "height": 151
        },
        "outputId": "7fe918a0-38de-441f-badf-de85635cddeb"
      },
      "source": [
        "df.info()"
      ],
      "execution_count": 17,
      "outputs": [
        {
          "output_type": "stream",
          "text": [
            "<class 'pandas.core.frame.DataFrame'>\n",
            "DatetimeIndex: 2517 entries, 2020-07-17 to 2010-07-20\n",
            "Data columns (total 1 columns):\n",
            " #   Column  Non-Null Count  Dtype  \n",
            "---  ------  --------------  -----  \n",
            " 0   close   2517 non-null   float64\n",
            "dtypes: float64(1)\n",
            "memory usage: 39.3 KB\n"
          ],
          "name": "stdout"
        }
      ]
    },
    {
      "cell_type": "code",
      "metadata": {
        "id": "HmrUrn7y8cxz",
        "colab_type": "code",
        "colab": {
          "base_uri": "https://localhost:8080/",
          "height": 431
        },
        "outputId": "6046bb59-c3ba-4937-cdcf-34ed12d6de5c"
      },
      "source": [
        "df"
      ],
      "execution_count": 18,
      "outputs": [
        {
          "output_type": "execute_result",
          "data": {
            "text/html": [
              "<div>\n",
              "<style scoped>\n",
              "    .dataframe tbody tr th:only-of-type {\n",
              "        vertical-align: middle;\n",
              "    }\n",
              "\n",
              "    .dataframe tbody tr th {\n",
              "        vertical-align: top;\n",
              "    }\n",
              "\n",
              "    .dataframe thead th {\n",
              "        text-align: right;\n",
              "    }\n",
              "</style>\n",
              "<table border=\"1\" class=\"dataframe\">\n",
              "  <thead>\n",
              "    <tr style=\"text-align: right;\">\n",
              "      <th></th>\n",
              "      <th>close</th>\n",
              "    </tr>\n",
              "    <tr>\n",
              "      <th>date</th>\n",
              "      <th></th>\n",
              "    </tr>\n",
              "  </thead>\n",
              "  <tbody>\n",
              "    <tr>\n",
              "      <th>2020-07-17</th>\n",
              "      <td>492.9900</td>\n",
              "    </tr>\n",
              "    <tr>\n",
              "      <th>2020-07-16</th>\n",
              "      <td>527.3900</td>\n",
              "    </tr>\n",
              "    <tr>\n",
              "      <th>2020-07-15</th>\n",
              "      <td>523.2600</td>\n",
              "    </tr>\n",
              "    <tr>\n",
              "      <th>2020-07-14</th>\n",
              "      <td>524.8800</td>\n",
              "    </tr>\n",
              "    <tr>\n",
              "      <th>2020-07-13</th>\n",
              "      <td>525.5000</td>\n",
              "    </tr>\n",
              "    <tr>\n",
              "      <th>...</th>\n",
              "      <td>...</td>\n",
              "    </tr>\n",
              "    <tr>\n",
              "      <th>2010-07-26</th>\n",
              "      <td>14.6843</td>\n",
              "    </tr>\n",
              "    <tr>\n",
              "      <th>2010-07-23</th>\n",
              "      <td>15.3857</td>\n",
              "    </tr>\n",
              "    <tr>\n",
              "      <th>2010-07-22</th>\n",
              "      <td>14.7943</td>\n",
              "    </tr>\n",
              "    <tr>\n",
              "      <th>2010-07-21</th>\n",
              "      <td>17.0929</td>\n",
              "    </tr>\n",
              "    <tr>\n",
              "      <th>2010-07-20</th>\n",
              "      <td>17.1986</td>\n",
              "    </tr>\n",
              "  </tbody>\n",
              "</table>\n",
              "<p>2517 rows × 1 columns</p>\n",
              "</div>"
            ],
            "text/plain": [
              "               close\n",
              "date                \n",
              "2020-07-17  492.9900\n",
              "2020-07-16  527.3900\n",
              "2020-07-15  523.2600\n",
              "2020-07-14  524.8800\n",
              "2020-07-13  525.5000\n",
              "...              ...\n",
              "2010-07-26   14.6843\n",
              "2010-07-23   15.3857\n",
              "2010-07-22   14.7943\n",
              "2010-07-21   17.0929\n",
              "2010-07-20   17.1986\n",
              "\n",
              "[2517 rows x 1 columns]"
            ]
          },
          "metadata": {
            "tags": []
          },
          "execution_count": 18
        }
      ]
    },
    {
      "cell_type": "code",
      "metadata": {
        "id": "ycEbC59csnsh",
        "colab_type": "code",
        "colab": {
          "base_uri": "https://localhost:8080/",
          "height": 483
        },
        "outputId": "babef7e1-edef-4781-85bd-e5d97e1e0396"
      },
      "source": [
        "from matplotlib import pyplot as plt\n",
        "plt.figure(figsize=(12,8))\n",
        "\n",
        "\n",
        "plt.plot(\"close\", data=df)\n",
        "plt.show()"
      ],
      "execution_count": 19,
      "outputs": [
        {
          "output_type": "display_data",
          "data": {
            "image/png": "[encoded data removed]",
            "text/plain": [
              "<Figure size 864x576 with 1 Axes>"
            ]
          },
          "metadata": {
            "tags": [],
            "needs_background": "light"
          }
        }
      ]
    },
    {
      "cell_type": "markdown",
      "metadata": {
        "id": "kIoVOg6fxD2O",
        "colab_type": "text"
      },
      "source": [
        "## Look at stationarity\n",
        "Most time-series models assume that the underlying time-series data is **stationary**.  This assumption gives us some nice statistical properties that allows us to use various models for forecasting.\n",
        "\n",
        "**Stationarity** is a statistical assumption that a time-series has:\n",
        "*   **Constant mean**\n",
        "*   **Constant variance**\n",
        "*   **Autocovariance does not depend on time**\n"
      ]
    },
    {
      "cell_type": "markdown",
      "metadata": {
        "id": "Pj1JjFdUxINy",
        "colab_type": "text"
      },
      "source": [
        "**Looking at our data:**\n",
        "- Rolling mean and standard deviation look like they change over time.  There may be some de-trending and removing seasonality involved. Based on **Dickey-Fuller test**, because p = 0.166, we fail to reject the null hypothesis (that the time series is not stationary) at the p = 0.05 level, thus concluding that we fail to reject the null hypothesis that our **time series is not stationary**."
      ]
    },
    {
      "cell_type": "code",
      "metadata": {
        "id": "RPM-EymbsquD",
        "colab_type": "code",
        "colab": {
          "base_uri": "https://localhost:8080/",
          "height": 70
        },
        "outputId": "df797f56-1f65-44e3-b6ea-fdd228b1d274"
      },
      "source": [
        "from statsmodels.tsa.stattools import adfuller\n"
      ],
      "execution_count": 20,
      "outputs": [
        {
          "output_type": "stream",
          "text": [
            "/usr/local/lib/python3.6/dist-packages/statsmodels/tools/_testing.py:19: FutureWarning: pandas.util.testing is deprecated. Use the functions in the public API at pandas.testing instead.\n",
            "  import pandas.util.testing as tm\n"
          ],
          "name": "stderr"
        }
      ]
    },
    {
      "cell_type": "markdown",
      "metadata": {
        "id": "HByDWtoIxkA-",
        "colab_type": "text"
      },
      "source": [
        ""
      ]
    },
    {
      "cell_type": "code",
      "metadata": {
        "id": "9sXOjlsPs08R",
        "colab_type": "code",
        "colab": {}
      },
      "source": [
        "test_result=adfuller(df['close'])\n"
      ],
      "execution_count": 21,
      "outputs": []
    },
    {
      "cell_type": "code",
      "metadata": {
        "id": "iverBKILs3aD",
        "colab_type": "code",
        "colab": {}
      },
      "source": [
        "def adfuller_test(Close):\n",
        "    result=adfuller(Close)\n",
        "    labels = ['ADF Test Statistic','p-value','#Lags Used','Number of Observations Used']\n",
        "    for value,label in zip(result,labels):\n",
        "        print(label+' : '+str(value) )\n",
        "    if result[1] <= 0.05:\n",
        "        print(\"strong evidence against the null hypothesis(Ho), reject the null hypothesis. Data has no unit root and is stationary\")\n",
        "    else:\n",
        "        print(\"weak evidence against null hypothesis, time series has a unit root, indicating it is non-stationary \")"
      ],
      "execution_count": 22,
      "outputs": []
    },
    {
      "cell_type": "code",
      "metadata": {
        "id": "2HsegdeXs5Mb",
        "colab_type": "code",
        "colab": {
          "base_uri": "https://localhost:8080/",
          "height": 101
        },
        "outputId": "32291076-95be-4f70-82c2-a9016a1eec5f"
      },
      "source": [
        "adfuller_test(df['close'])\n"
      ],
      "execution_count": 23,
      "outputs": [
        {
          "output_type": "stream",
          "text": [
            "ADF Test Statistic : -2.3171134560949835\n",
            "p-value : 0.16650793004714354\n",
            "#Lags Used : 27\n",
            "Number of Observations Used : 2489\n",
            "weak evidence against null hypothesis, time series has a unit root, indicating it is non-stationary \n"
          ],
          "name": "stdout"
        }
      ]
    },
    {
      "cell_type": "markdown",
      "metadata": {
        "id": "_QNZFER5sLeQ",
        "colab_type": "text"
      },
      "source": [
        "# **Eliminating trend and seasonality**\n",
        "\n",
        "**Transformation**\n",
        "\n",
        "Examples. Log, square root, etc.\n",
        "\n",
        "**Smoothing**\n",
        "\n",
        "Examples. Weekly average, monthly average, rolling averages.\n",
        "\n",
        "**Differencing**\n",
        "\n",
        "Examples. First-order differencing.\n",
        "\n",
        "**Polynomial Fitting**\n",
        "\n",
        "Examples. Fit a regression model."
      ]
    },
    {
      "cell_type": "markdown",
      "metadata": {
        "id": "OxYg5pvAtxUF",
        "colab_type": "text"
      },
      "source": [
        "# Differencing\n",
        "I used the difference shift as one month (30 days)"
      ]
    },
    {
      "cell_type": "code",
      "metadata": {
        "id": "V5nsIJ_3vZXd",
        "colab_type": "code",
        "colab": {}
      },
      "source": [
        "df['close difference']=df['close']-df['close'].shift(30)\n"
      ],
      "execution_count": 24,
      "outputs": []
    },
    {
      "cell_type": "code",
      "metadata": {
        "id": "A3hvBScWvfnh",
        "colab_type": "code",
        "colab": {
          "base_uri": "https://localhost:8080/",
          "height": 101
        },
        "outputId": "c8b647fa-e097-4a21-8231-81ee3869c2b8"
      },
      "source": [
        "adfuller_test(df['close difference'].dropna())\n"
      ],
      "execution_count": 25,
      "outputs": [
        {
          "output_type": "stream",
          "text": [
            "ADF Test Statistic : -8.684979819519864\n",
            "p-value : 4.1870112113546216e-14\n",
            "#Lags Used : 27\n",
            "Number of Observations Used : 2459\n",
            "strong evidence against the null hypothesis(Ho), reject the null hypothesis. Data has no unit root and is stationary\n"
          ],
          "name": "stdout"
        }
      ]
    },
    {
      "cell_type": "code",
      "metadata": {
        "id": "UokZb8BvvuMp",
        "colab_type": "code",
        "colab": {
          "base_uri": "https://localhost:8080/",
          "height": 288
        },
        "outputId": "9a167abe-4a27-4360-8ad6-a8edec50f0f3"
      },
      "source": [
        "df['close difference'].plot()"
      ],
      "execution_count": 26,
      "outputs": [
        {
          "output_type": "execute_result",
          "data": {
            "text/plain": [
              "<matplotlib.axes._subplots.AxesSubplot at 0x7f293b61c6a0>"
            ]
          },
          "metadata": {
            "tags": []
          },
          "execution_count": 26
        },
        {
          "output_type": "display_data",
          "data": {
            "image/png": "[encoded data removed]",
            "text/plain": [
              "<Figure size 432x288 with 1 Axes>"
            ]
          },
          "metadata": {
            "tags": [],
            "needs_background": "light"
          }
        }
      ]
    },
    {
      "cell_type": "markdown",
      "metadata": {
        "id": "RdjpAii3uE9t",
        "colab_type": "text"
      },
      "source": [
        "# Transformation\n",
        "After doing the differencing we found that our data is stationary, but I also want to see the log version of the differencing. If the log of differencing gives us a better result , I will use log of difference for the further process."
      ]
    },
    {
      "cell_type": "code",
      "metadata": {
        "id": "KT7ju61szJ79",
        "colab_type": "code",
        "colab": {}
      },
      "source": [
        "df['close_log'] = df['close'].apply(lambda x: np.log(x))\n"
      ],
      "execution_count": 27,
      "outputs": []
    },
    {
      "cell_type": "code",
      "metadata": {
        "id": "RPmWi8BnzJrB",
        "colab_type": "code",
        "colab": {
          "base_uri": "https://localhost:8080/",
          "height": 431
        },
        "outputId": "f6c5df47-37d9-412b-c69a-157e5266aa20"
      },
      "source": [
        "df"
      ],
      "execution_count": 28,
      "outputs": [
        {
          "output_type": "execute_result",
          "data": {
            "text/html": [
              "<div>\n",
              "<style scoped>\n",
              "    .dataframe tbody tr th:only-of-type {\n",
              "        vertical-align: middle;\n",
              "    }\n",
              "\n",
              "    .dataframe tbody tr th {\n",
              "        vertical-align: top;\n",
              "    }\n",
              "\n",
              "    .dataframe thead th {\n",
              "        text-align: right;\n",
              "    }\n",
              "</style>\n",
              "<table border=\"1\" class=\"dataframe\">\n",
              "  <thead>\n",
              "    <tr style=\"text-align: right;\">\n",
              "      <th></th>\n",
              "      <th>close</th>\n",
              "      <th>close difference</th>\n",
              "      <th>close_log</th>\n",
              "    </tr>\n",
              "    <tr>\n",
              "      <th>date</th>\n",
              "      <th></th>\n",
              "      <th></th>\n",
              "      <th></th>\n",
              "    </tr>\n",
              "  </thead>\n",
              "  <tbody>\n",
              "    <tr>\n",
              "      <th>2020-07-17</th>\n",
              "      <td>492.9900</td>\n",
              "      <td>NaN</td>\n",
              "      <td>6.200489</td>\n",
              "    </tr>\n",
              "    <tr>\n",
              "      <th>2020-07-16</th>\n",
              "      <td>527.3900</td>\n",
              "      <td>NaN</td>\n",
              "      <td>6.267940</td>\n",
              "    </tr>\n",
              "    <tr>\n",
              "      <th>2020-07-15</th>\n",
              "      <td>523.2600</td>\n",
              "      <td>NaN</td>\n",
              "      <td>6.260078</td>\n",
              "    </tr>\n",
              "    <tr>\n",
              "      <th>2020-07-14</th>\n",
              "      <td>524.8800</td>\n",
              "      <td>NaN</td>\n",
              "      <td>6.263170</td>\n",
              "    </tr>\n",
              "    <tr>\n",
              "      <th>2020-07-13</th>\n",
              "      <td>525.5000</td>\n",
              "      <td>NaN</td>\n",
              "      <td>6.264350</td>\n",
              "    </tr>\n",
              "    <tr>\n",
              "      <th>...</th>\n",
              "      <td>...</td>\n",
              "      <td>...</td>\n",
              "      <td>...</td>\n",
              "    </tr>\n",
              "    <tr>\n",
              "      <th>2010-07-26</th>\n",
              "      <td>14.6843</td>\n",
              "      <td>-5.5714</td>\n",
              "      <td>2.686779</td>\n",
              "    </tr>\n",
              "    <tr>\n",
              "      <th>2010-07-23</th>\n",
              "      <td>15.3857</td>\n",
              "      <td>-4.3972</td>\n",
              "      <td>2.733439</td>\n",
              "    </tr>\n",
              "    <tr>\n",
              "      <th>2010-07-22</th>\n",
              "      <td>14.7943</td>\n",
              "      <td>-4.9200</td>\n",
              "      <td>2.694242</td>\n",
              "    </tr>\n",
              "    <tr>\n",
              "      <th>2010-07-21</th>\n",
              "      <td>17.0929</td>\n",
              "      <td>-2.1807</td>\n",
              "      <td>2.838663</td>\n",
              "    </tr>\n",
              "    <tr>\n",
              "      <th>2010-07-20</th>\n",
              "      <td>17.1986</td>\n",
              "      <td>-0.7328</td>\n",
              "      <td>2.844828</td>\n",
              "    </tr>\n",
              "  </tbody>\n",
              "</table>\n",
              "<p>2517 rows × 3 columns</p>\n",
              "</div>"
            ],
            "text/plain": [
              "               close  close difference  close_log\n",
              "date                                             \n",
              "2020-07-17  492.9900               NaN   6.200489\n",
              "2020-07-16  527.3900               NaN   6.267940\n",
              "2020-07-15  523.2600               NaN   6.260078\n",
              "2020-07-14  524.8800               NaN   6.263170\n",
              "2020-07-13  525.5000               NaN   6.264350\n",
              "...              ...               ...        ...\n",
              "2010-07-26   14.6843           -5.5714   2.686779\n",
              "2010-07-23   15.3857           -4.3972   2.733439\n",
              "2010-07-22   14.7943           -4.9200   2.694242\n",
              "2010-07-21   17.0929           -2.1807   2.838663\n",
              "2010-07-20   17.1986           -0.7328   2.844828\n",
              "\n",
              "[2517 rows x 3 columns]"
            ]
          },
          "metadata": {
            "tags": []
          },
          "execution_count": 28
        }
      ]
    },
    {
      "cell_type": "code",
      "metadata": {
        "id": "BS9R95FIzJVn",
        "colab_type": "code",
        "colab": {}
      },
      "source": [
        "df['close_log_difference']=df['close_log']-df['close_log'].shift(30)\n"
      ],
      "execution_count": 29,
      "outputs": []
    },
    {
      "cell_type": "code",
      "metadata": {
        "id": "WZsoLzy1wADZ",
        "colab_type": "code",
        "colab": {
          "base_uri": "https://localhost:8080/",
          "height": 431
        },
        "outputId": "1151e7b5-6a81-4bbf-fdc5-3ee752270973"
      },
      "source": [
        "df"
      ],
      "execution_count": 30,
      "outputs": [
        {
          "output_type": "execute_result",
          "data": {
            "text/html": [
              "<div>\n",
              "<style scoped>\n",
              "    .dataframe tbody tr th:only-of-type {\n",
              "        vertical-align: middle;\n",
              "    }\n",
              "\n",
              "    .dataframe tbody tr th {\n",
              "        vertical-align: top;\n",
              "    }\n",
              "\n",
              "    .dataframe thead th {\n",
              "        text-align: right;\n",
              "    }\n",
              "</style>\n",
              "<table border=\"1\" class=\"dataframe\">\n",
              "  <thead>\n",
              "    <tr style=\"text-align: right;\">\n",
              "      <th></th>\n",
              "      <th>close</th>\n",
              "      <th>close difference</th>\n",
              "      <th>close_log</th>\n",
              "      <th>close_log_difference</th>\n",
              "    </tr>\n",
              "    <tr>\n",
              "      <th>date</th>\n",
              "      <th></th>\n",
              "      <th></th>\n",
              "      <th></th>\n",
              "      <th></th>\n",
              "    </tr>\n",
              "  </thead>\n",
              "  <tbody>\n",
              "    <tr>\n",
              "      <th>2020-07-17</th>\n",
              "      <td>492.9900</td>\n",
              "      <td>NaN</td>\n",
              "      <td>6.200489</td>\n",
              "      <td>NaN</td>\n",
              "    </tr>\n",
              "    <tr>\n",
              "      <th>2020-07-16</th>\n",
              "      <td>527.3900</td>\n",
              "      <td>NaN</td>\n",
              "      <td>6.267940</td>\n",
              "      <td>NaN</td>\n",
              "    </tr>\n",
              "    <tr>\n",
              "      <th>2020-07-15</th>\n",
              "      <td>523.2600</td>\n",
              "      <td>NaN</td>\n",
              "      <td>6.260078</td>\n",
              "      <td>NaN</td>\n",
              "    </tr>\n",
              "    <tr>\n",
              "      <th>2020-07-14</th>\n",
              "      <td>524.8800</td>\n",
              "      <td>NaN</td>\n",
              "      <td>6.263170</td>\n",
              "      <td>NaN</td>\n",
              "    </tr>\n",
              "    <tr>\n",
              "      <th>2020-07-13</th>\n",
              "      <td>525.5000</td>\n",
              "      <td>NaN</td>\n",
              "      <td>6.264350</td>\n",
              "      <td>NaN</td>\n",
              "    </tr>\n",
              "    <tr>\n",
              "      <th>...</th>\n",
              "      <td>...</td>\n",
              "      <td>...</td>\n",
              "      <td>...</td>\n",
              "      <td>...</td>\n",
              "    </tr>\n",
              "    <tr>\n",
              "      <th>2010-07-26</th>\n",
              "      <td>14.6843</td>\n",
              "      <td>-5.5714</td>\n",
              "      <td>2.686779</td>\n",
              "      <td>-0.321657</td>\n",
              "    </tr>\n",
              "    <tr>\n",
              "      <th>2010-07-23</th>\n",
              "      <td>15.3857</td>\n",
              "      <td>-4.3972</td>\n",
              "      <td>2.733439</td>\n",
              "      <td>-0.251379</td>\n",
              "    </tr>\n",
              "    <tr>\n",
              "      <th>2010-07-22</th>\n",
              "      <td>14.7943</td>\n",
              "      <td>-4.9200</td>\n",
              "      <td>2.694242</td>\n",
              "      <td>-0.287102</td>\n",
              "    </tr>\n",
              "    <tr>\n",
              "      <th>2010-07-21</th>\n",
              "      <td>17.0929</td>\n",
              "      <td>-2.1807</td>\n",
              "      <td>2.838663</td>\n",
              "      <td>-0.120073</td>\n",
              "    </tr>\n",
              "    <tr>\n",
              "      <th>2010-07-20</th>\n",
              "      <td>17.1986</td>\n",
              "      <td>-0.7328</td>\n",
              "      <td>2.844828</td>\n",
              "      <td>-0.041725</td>\n",
              "    </tr>\n",
              "  </tbody>\n",
              "</table>\n",
              "<p>2517 rows × 4 columns</p>\n",
              "</div>"
            ],
            "text/plain": [
              "               close  close difference  close_log  close_log_difference\n",
              "date                                                                   \n",
              "2020-07-17  492.9900               NaN   6.200489                   NaN\n",
              "2020-07-16  527.3900               NaN   6.267940                   NaN\n",
              "2020-07-15  523.2600               NaN   6.260078                   NaN\n",
              "2020-07-14  524.8800               NaN   6.263170                   NaN\n",
              "2020-07-13  525.5000               NaN   6.264350                   NaN\n",
              "...              ...               ...        ...                   ...\n",
              "2010-07-26   14.6843           -5.5714   2.686779             -0.321657\n",
              "2010-07-23   15.3857           -4.3972   2.733439             -0.251379\n",
              "2010-07-22   14.7943           -4.9200   2.694242             -0.287102\n",
              "2010-07-21   17.0929           -2.1807   2.838663             -0.120073\n",
              "2010-07-20   17.1986           -0.7328   2.844828             -0.041725\n",
              "\n",
              "[2517 rows x 4 columns]"
            ]
          },
          "metadata": {
            "tags": []
          },
          "execution_count": 30
        }
      ]
    },
    {
      "cell_type": "code",
      "metadata": {
        "id": "NR9wS1NiwIyY",
        "colab_type": "code",
        "colab": {
          "base_uri": "https://localhost:8080/",
          "height": 101
        },
        "outputId": "3c4b58d8-6c72-4d32-9238-7a5c27c2a55a"
      },
      "source": [
        "adfuller_test(df['close_log_difference'].dropna())\n"
      ],
      "execution_count": 31,
      "outputs": [
        {
          "output_type": "stream",
          "text": [
            "ADF Test Statistic : -8.367691241489982\n",
            "p-value : 2.7148327677128136e-13\n",
            "#Lags Used : 25\n",
            "Number of Observations Used : 2461\n",
            "strong evidence against the null hypothesis(Ho), reject the null hypothesis. Data has no unit root and is stationary\n"
          ],
          "name": "stdout"
        }
      ]
    },
    {
      "cell_type": "code",
      "metadata": {
        "id": "XY3FWt1Gwu71",
        "colab_type": "code",
        "colab": {
          "base_uri": "https://localhost:8080/",
          "height": 286
        },
        "outputId": "a63643de-208e-422c-9fc9-ef0a96b5e5ed"
      },
      "source": [
        "df[\"close_log_difference\"].plot()"
      ],
      "execution_count": 32,
      "outputs": [
        {
          "output_type": "execute_result",
          "data": {
            "text/plain": [
              "<matplotlib.axes._subplots.AxesSubplot at 0x7f293b538438>"
            ]
          },
          "metadata": {
            "tags": []
          },
          "execution_count": 32
        },
        {
          "output_type": "display_data",
          "data": {
            "image/png": "[encoded data removed]",
            "text/plain": [
              "<Figure size 432x288 with 1 Axes>"
            ]
          },
          "metadata": {
            "tags": [],
            "needs_background": "light"
          }
        }
      ]
    },
    {
      "cell_type": "markdown",
      "metadata": {
        "id": "5H9NKAh7qe3M",
        "colab_type": "text"
      },
      "source": [
        "# **ARIMA models**\n",
        "**ARIMA = Auto-Regressive Integrated Moving Average.**\n",
        "\n",
        "**Assumptions.** The time-series is stationary.\n",
        "\n",
        "Depends on:\n",
        "1. Number of AR (Auto-Regressive) terms (p).\n",
        "2. Number of I (Integrated or Difference) terms (d).\n",
        "3. Number of MA (Moving Average) terms (q).\n",
        "\n",
        "\n",
        "# **ACF and PACF Plots**\n",
        "How do we determine p, d, and q? For p and q, we can use ACF and PACF plots (below).\n",
        "\n",
        "**Autocorrelation Function (ACF).** Correlation between the time series with a lagged version of itself (e.g., correlation of Y(t) with Y(t-1)).\n",
        "\n",
        "**Partial Autocorrelation Function (PACF).** Additional correlation explained by each successive lagged term.\n",
        "\n",
        "**How do we interpret ACF and PACF plots?**\n",
        "\n",
        "p – Lag value where the PACF chart crosses the upper confidence interval for the first time.\n",
        "\n",
        "q – Lag value where the ACF chart crosses the upper confidence interval for the first time."
      ]
    },
    {
      "cell_type": "code",
      "metadata": {
        "id": "SXfLlVo60ioh",
        "colab_type": "code",
        "colab": {}
      },
      "source": [
        "from statsmodels.graphics.tsaplots import plot_acf,plot_pacf\n",
        "import statsmodels"
      ],
      "execution_count": 33,
      "outputs": []
    },
    {
      "cell_type": "code",
      "metadata": {
        "id": "zW_1zPS20jGi",
        "colab_type": "code",
        "colab": {
          "base_uri": "https://localhost:8080/",
          "height": 499
        },
        "outputId": "52df7a59-84aa-4482-86ac-87789a3895d5"
      },
      "source": [
        "fig = plt.figure(figsize=(12,8))\n",
        "ax1 = fig.add_subplot(211)\n",
        "fig = statsmodels.graphics.tsaplots.plot_acf(df['close_log_difference'].iloc[31:],lags=40,ax=ax1)\n",
        "ax2 = fig.add_subplot(212)\n",
        "fig = statsmodels.graphics.tsaplots.plot_pacf(df['close_log_difference'].iloc[31:],lags=40,ax=ax2)"
      ],
      "execution_count": 35,
      "outputs": [
        {
          "output_type": "display_data",
          "data": {
            "image/png": "[encoded data removed]",
            "text/plain": [
              "<Figure size 864x576 with 2 Axes>"
            ]
          },
          "metadata": {
            "tags": [],
            "needs_background": "light"
          }
        }
      ]
    },
    {
      "cell_type": "code",
      "metadata": {
        "id": "45LqEChb3saE",
        "colab_type": "code",
        "colab": {}
      },
      "source": [
        "df = df.iloc[31:]"
      ],
      "execution_count": 38,
      "outputs": []
    },
    {
      "cell_type": "code",
      "metadata": {
        "id": "zhMb_srW0rYY",
        "colab_type": "code",
        "colab": {}
      },
      "source": [
        "def run_arima_model(df, ts, p, d, q):\n",
        "  \"\"\"\n",
        "  Run ARIMA model\n",
        "  \"\"\"\n",
        "  from statsmodels.tsa.arima_model import ARIMA\n",
        "\n",
        "  # fit ARIMA model on time series\n",
        "  model = ARIMA(df[ts], order=(p, d, q))  \n",
        "  results_ = model.fit(disp=-1)  \n",
        "  \n",
        "  # get lengths correct to calculate RSS\n",
        "  len_results = len(results_.fittedvalues)\n",
        "  ts_modified = df[ts][-len_results:]\n",
        "  \n",
        "  # calculate root mean square error (RMSE) and residual sum of squares (RSS)\n",
        "  rss = sum((results_.fittedvalues - ts_modified)**2)\n",
        "  rmse = np.sqrt(rss / len(df[ts]))\n",
        "  \n",
        "  # plot fit\n",
        "  plt.plot(df[ts])\n",
        "  plt.plot(results_.fittedvalues, color = 'red')\n",
        "  plt.title('For ARIMA model (%i, %i, %i) for ts %s, RSS: %.4f, RMSE: %.4f' %(p, d, q, ts, rss, rmse))\n",
        "  \n",
        "  plt.show()"
      ],
      "execution_count": 39,
      "outputs": []
    },
    {
      "cell_type": "code",
      "metadata": {
        "id": "Rew3-at92xwq",
        "colab_type": "code",
        "colab": {
          "base_uri": "https://localhost:8080/",
          "height": 930
        },
        "outputId": "4b280524-fdc3-489b-9608-25ebdb0771e0"
      },
      "source": [
        "# Note: I do the differencing in the transformation of the data 'ts_log_diff'\n",
        "# AR model with 1st order differencing - ARIMA (1,0,0)\n",
        "model_AR = run_arima_model(df = df, \n",
        "                           ts = 'close_log_difference', \n",
        "                           p = 1, \n",
        "                           d = 0, \n",
        "                           q = 0)\n",
        "\n",
        "# MA model with 1st order differencing - ARIMA (0,0,1)\n",
        "model_MA = run_arima_model(df = df, \n",
        "                           ts = 'close_log_difference', \n",
        "                           p = 0, \n",
        "                           d = 0, \n",
        "                           q = 1)\n",
        "\n",
        "# ARMA model with 1st order differencing - ARIMA (1,0,1)\n",
        "model_MA = run_arima_model(df = df, \n",
        "                           ts = 'close_log_difference', \n",
        "                           p = 1, \n",
        "                           d = 0, \n",
        "                           q = 1)"
      ],
      "execution_count": 40,
      "outputs": [
        {
          "output_type": "stream",
          "text": [
            "/usr/local/lib/python3.6/dist-packages/statsmodels/tsa/base/tsa_model.py:219: ValueWarning: A date index has been provided, but it has no associated frequency information and so will be ignored when e.g. forecasting.\n",
            "  ' ignored when e.g. forecasting.', ValueWarning)\n"
          ],
          "name": "stderr"
        },
        {
          "output_type": "display_data",
          "data": {
            "image/png": "[encoded data removed]",
            "text/plain": [
              "<Figure size 432x288 with 1 Axes>"
            ]
          },
          "metadata": {
            "tags": [],
            "needs_background": "light"
          }
        },
        {
          "output_type": "stream",
          "text": [
            "/usr/local/lib/python3.6/dist-packages/statsmodels/tsa/base/tsa_model.py:219: ValueWarning: A date index has been provided, but it has no associated frequency information and so will be ignored when e.g. forecasting.\n",
            "  ' ignored when e.g. forecasting.', ValueWarning)\n"
          ],
          "name": "stderr"
        },
        {
          "output_type": "display_data",
          "data": {
            "image/png": "[encoded data removed]",
            "text/plain": [
              "<Figure size 432x288 with 1 Axes>"
            ]
          },
          "metadata": {
            "tags": [],
            "needs_background": "light"
          }
        },
        {
          "output_type": "stream",
          "text": [
            "/usr/local/lib/python3.6/dist-packages/statsmodels/tsa/base/tsa_model.py:219: ValueWarning: A date index has been provided, but it has no associated frequency information and so will be ignored when e.g. forecasting.\n",
            "  ' ignored when e.g. forecasting.', ValueWarning)\n"
          ],
          "name": "stderr"
        },
        {
          "output_type": "display_data",
          "data": {
            "image/png": "[encoded data removed]",
            "text/plain": [
              "<Figure size 432x288 with 1 Axes>"
            ]
          },
          "metadata": {
            "tags": [],
            "needs_background": "light"
          }
        }
      ]
    },
    {
      "cell_type": "code",
      "metadata": {
        "id": "yjFiRia2tnNT",
        "colab_type": "code",
        "colab": {}
      },
      "source": [
        ""
      ],
      "execution_count": null,
      "outputs": []
    }
  ]
}